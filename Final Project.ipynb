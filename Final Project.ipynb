{
 "cells": [
  {
   "cell_type": "markdown",
   "metadata": {},
   "source": [
    "# Import libraries"
   ]
  },
  {
   "cell_type": "code",
   "execution_count": 1,
   "metadata": {
    "scrolled": true
   },
   "outputs": [
    {
     "name": "stderr",
     "output_type": "stream",
     "text": [
      "/opt/conda/lib/python3.5/site-packages/h5py/__init__.py:36: FutureWarning: Conversion of the second argument of issubdtype from `float` to `np.floating` is deprecated. In future, it will be treated as `np.float64 == np.dtype(float).type`.\n",
      "  from ._conv import register_converters as _register_converters\n"
     ]
    },
    {
     "name": "stdout",
     "output_type": "stream",
     "text": [
      "[name: \"/device:CPU:0\"\n",
      "device_type: \"CPU\"\n",
      "memory_limit: 268435456\n",
      "locality {\n",
      "}\n",
      "incarnation: 6143668172009519789\n",
      ", name: \"/device:GPU:0\"\n",
      "device_type: \"GPU\"\n",
      "memory_limit: 10931221300\n",
      "locality {\n",
      "  bus_id: 1\n",
      "}\n",
      "incarnation: 13254605444743483428\n",
      "physical_device_desc: \"device: 0, name: GeForce GTX 1080 Ti, pci bus id: 0000:08:00.0, compute capability: 6.1\"\n",
      "]\n"
     ]
    }
   ],
   "source": [
    "# check if GPU is available\n",
    "from tensorflow.python.client import device_lib\n",
    "print(device_lib.list_local_devices())"
   ]
  },
  {
   "cell_type": "code",
   "execution_count": 2,
   "metadata": {},
   "outputs": [
    {
     "name": "stderr",
     "output_type": "stream",
     "text": [
      "Using TensorFlow backend.\n"
     ]
    },
    {
     "name": "stdout",
     "output_type": "stream",
     "text": [
      "2.1.6\n"
     ]
    }
   ],
   "source": [
    "import keras\n",
    "from keras.preprocessing.image import ImageDataGenerator\n",
    "from keras.models import Sequential, Model, clone_model\n",
    "from keras.layers import Dense, Activation, Input, Lambda, Conv2D, MaxPooling2D, Flatten, Dropout\n",
    "from keras.layers.normalization import BatchNormalization\n",
    "from keras import backend as K\n",
    "from keras.engine.topology import Layer\n",
    "from keras.datasets import cifar10\n",
    "from keras.utils import np_utils\n",
    "print(keras.__version__)\n",
    "\n",
    "import numpy as np\n",
    "import matplotlib.pyplot as plt\n",
    "\n",
    "import VBMF"
   ]
  },
  {
   "cell_type": "code",
   "execution_count": 3,
   "metadata": {
    "scrolled": true
   },
   "outputs": [
    {
     "name": "stderr",
     "output_type": "stream",
     "text": [
      "Using numpy backend.\n"
     ]
    }
   ],
   "source": [
    "import tensorly as tl\n",
    "from tensorly.decomposition import partial_tucker \n",
    "# tl.set_backend('numpy')"
   ]
  },
  {
   "cell_type": "code",
   "execution_count": 4,
   "metadata": {},
   "outputs": [],
   "source": [
    "def get_model():\n",
    "    batch_norm_alpha=0.9\n",
    "    batch_norm_eps=1e-4\n",
    "\n",
    "    model=Sequential()\n",
    "\n",
    "    model.add(Conv2D(filters=64, kernel_size=3, strides=(1, 1), padding='valid',input_shape=[32,32,3]))\n",
    "    model.add(Activation('relu'))\n",
    "    model.add(BatchNormalization(axis=-1, momentum=batch_norm_alpha, epsilon=batch_norm_eps))\n",
    "    model.add(Conv2D(filters=64, kernel_size=3, strides=(1, 1), padding='valid'))\n",
    "    model.add(Activation('relu'))\n",
    "    model.add(BatchNormalization(axis=-1, momentum=batch_norm_alpha, epsilon=batch_norm_eps))\n",
    "    model.add(MaxPooling2D(pool_size=(2, 2),strides=(2,2)))\n",
    "\n",
    "    model.add(Conv2D(filters=128, kernel_size=3, strides=(1, 1), padding='valid'))\n",
    "    model.add(Activation('relu'))\n",
    "    model.add(BatchNormalization(axis=-1, momentum=batch_norm_alpha, epsilon=batch_norm_eps))\n",
    "    model.add(Conv2D(filters=128, kernel_size=3, strides=(1, 1), padding='valid'))\n",
    "    model.add(Activation('relu'))\n",
    "    model.add(BatchNormalization(axis=-1, momentum=batch_norm_alpha, epsilon=batch_norm_eps))\n",
    "    model.add(MaxPooling2D(pool_size=(2, 2),strides=(2,2)))\n",
    "\n",
    "    model.add(Conv2D(filters=256, kernel_size=3, strides=(1, 1), padding='valid'))\n",
    "    model.add(Activation('relu'))\n",
    "    model.add(BatchNormalization(axis=-1, momentum=batch_norm_alpha, epsilon=batch_norm_eps))\n",
    "    model.add(Conv2D(filters=256, kernel_size=3, strides=(1, 1), padding='valid'))\n",
    "    model.add(Activation('relu'))\n",
    "    model.add(BatchNormalization(axis=-1, momentum=batch_norm_alpha, epsilon=batch_norm_eps))\n",
    "    #model.add(MaxPooling2D(pool_size=(2, 2),strides=(2,2))) <- comment out\n",
    "\n",
    "    model.add(Flatten())\n",
    "\n",
    "    model.add(Dense(512))\n",
    "    model.add(Activation('relu'))\n",
    "    model.add(BatchNormalization(axis=-1, momentum=batch_norm_alpha, epsilon=batch_norm_eps))\n",
    "    model.add(Dense(512))\n",
    "    model.add(Activation('relu'))\n",
    "    model.add(BatchNormalization(axis=-1, momentum=batch_norm_alpha, epsilon=batch_norm_eps))\n",
    "    model.add(Dense(10))\n",
    "    model.add(Activation('softmax'))\n",
    "\n",
    "    return model"
   ]
  },
  {
   "cell_type": "markdown",
   "metadata": {},
   "source": [
    "# Step 1"
   ]
  },
  {
   "cell_type": "code",
   "execution_count": 5,
   "metadata": {
    "scrolled": true
   },
   "outputs": [
    {
     "name": "stdout",
     "output_type": "stream",
     "text": [
      "X_train shape: (50000, 32, 32, 3)\n",
      "50000 train samples\n",
      "10000 test samples\n",
      "WARNING:tensorflow:From /opt/conda/lib/python3.5/site-packages/tensorflow/python/ops/nn_impl.py:666: calling reduce_mean (from tensorflow.python.ops.math_ops) with keep_dims is deprecated and will be removed in a future version.\n",
      "Instructions for updating:\n",
      "keep_dims is deprecated, use keepdims instead\n",
      "[0.4099401381775737, 0.8994]\n"
     ]
    }
   ],
   "source": [
    "# get cifar dataset\n",
    "(X_train, y_train), (X_test, y_test) = cifar10.load_data()\n",
    "\n",
    "# pre-process data\n",
    "X_train=X_train.astype(np.float32)\n",
    "X_test=X_test.astype(np.float32)\n",
    "Y_train = np_utils.to_categorical(y_train, 10)\n",
    "Y_test = np_utils.to_categorical(y_test, 10)\n",
    "X_train /= 255\n",
    "X_test /= 255\n",
    "X_train=2*X_train-1  \n",
    "X_test=2*X_test-1\n",
    "\n",
    "\n",
    "print('X_train shape:', X_train.shape)\n",
    "print(X_train.shape[0], 'train samples')\n",
    "print(X_test.shape[0], 'test samples')\n",
    "\n",
    "# set hyper-params\n",
    "batch_size=100\n",
    "lr=0.001\n",
    "Training=True\n",
    "Compressing=False\n",
    "\n",
    "datagen = ImageDataGenerator(\n",
    "    width_shift_range=0.15,    # randomly shift images horizontally (fraction of total width)\n",
    "    height_shift_range=0.15,   # randomly shift images vertically (fraction of total height)\n",
    "    horizontal_flip=True)      # randomly flip images\n",
    "\n",
    "model=get_model()\n",
    "weights_path='pretrained_cifar10.h5'\n",
    "model.load_weights(weights_path)\n",
    "opt = keras.optimizers.Adam(lr=0.001,decay=1e-6)\n",
    "model.compile(loss='sparse_categorical_crossentropy',optimizer=opt,metrics=['accuracy'])\n",
    "\n",
    "#make sure weights are loaded correctly:\n",
    "print(model.evaluate(X_test,y_test,verbose=0))"
   ]
  },
  {
   "cell_type": "markdown",
   "metadata": {},
   "source": [
    "# Step 2"
   ]
  },
  {
   "cell_type": "code",
   "execution_count": 6,
   "metadata": {},
   "outputs": [],
   "source": [
    "def convTuckerDecomp(W, ranks):\n",
    "    \"\"\" Apply tucker decomposition on 4-way tensor \"\"\"\n",
    "    W = tl.tensor(W)\n",
    "    core, [I, O] = partial_tucker(W, modes=[2,3], ranks=ranks, init='svd')\n",
    "    core = tl.to_numpy(core).astype(np.float32)\n",
    "    I = np.reshape(I,[1,1]+list(I.shape)).astype(np.float32)      # reshape I to 1x1xcxR1\n",
    "    O = np.reshape(O.T,[1,1]+list(O.T.shape)).astype(np.float32)  # reshape O to 1x1xR2x64\n",
    "    return I, core, O"
   ]
  },
  {
   "cell_type": "markdown",
   "metadata": {},
   "source": [
    "### Vary R1 and fix R2 = 64"
   ]
  },
  {
   "cell_type": "code",
   "execution_count": 8,
   "metadata": {
    "scrolled": true
   },
   "outputs": [],
   "source": [
    "errR1 = np.zeros(64)\n",
    "W = model.layers[3].get_weights()[0]   # 2nd conv layer\n",
    "R1_range = np.arange(1,65)\n",
    "for i,R1 in enumerate(R1_range):\n",
    "    print(\"i: \"+str(i))\n",
    "    ranks = [R1, 64]\n",
    "    I, core, O =  convTuckerDecomp(W, ranks)\n",
    "    W_recon =  tl.tenalg.multi_mode_dot(core, [I[0,0,:,:], O[0,0,:,:].T], modes=[2,3], transpose=False)\n",
    "    errR1[i] = np.linalg.norm(W - W_recon)**2   # calc reconstruction error ||W-W'||^2"
   ]
  },
  {
   "cell_type": "markdown",
   "metadata": {},
   "source": [
    "### Fix R1 = 64 and vary R2"
   ]
  },
  {
   "cell_type": "code",
   "execution_count": 11,
   "metadata": {
    "scrolled": true
   },
   "outputs": [
    {
     "name": "stdout",
     "output_type": "stream",
     "text": [
      "i: 0\n",
      "i: 1\n",
      "i: 2\n",
      "i: 3\n",
      "i: 4\n",
      "i: 5\n",
      "i: 6\n",
      "i: 7\n",
      "i: 8\n",
      "i: 9\n",
      "i: 10\n",
      "i: 11\n",
      "i: 12\n",
      "i: 13\n",
      "i: 14\n",
      "i: 15\n",
      "i: 16\n",
      "i: 17\n",
      "i: 18\n",
      "i: 19\n",
      "i: 20\n",
      "i: 21\n",
      "i: 22\n",
      "i: 23\n",
      "i: 24\n",
      "i: 25\n",
      "i: 26\n",
      "i: 27\n",
      "i: 28\n",
      "i: 29\n",
      "i: 30\n",
      "i: 31\n",
      "i: 32\n",
      "i: 33\n",
      "i: 34\n",
      "i: 35\n",
      "i: 36\n",
      "i: 37\n",
      "i: 38\n",
      "i: 39\n",
      "i: 40\n",
      "i: 41\n",
      "i: 42\n",
      "i: 43\n",
      "i: 44\n",
      "i: 45\n",
      "i: 46\n",
      "i: 47\n",
      "i: 48\n",
      "i: 49\n",
      "i: 50\n",
      "i: 51\n",
      "i: 52\n",
      "i: 53\n",
      "i: 54\n",
      "i: 55\n",
      "i: 56\n",
      "i: 57\n",
      "i: 58\n",
      "i: 59\n",
      "i: 60\n",
      "i: 61\n",
      "i: 62\n",
      "i: 63\n"
     ]
    }
   ],
   "source": [
    "errR2 = np.zeros(64)\n",
    "W = model.layers[3].get_weights()[0]   # 2nd conv layer\n",
    "R2_range = np.arange(1,65)\n",
    "for i,R2 in enumerate(R2_range):\n",
    "    print(\"i: \"+str(i))\n",
    "    ranks = [64, R2]\n",
    "    I, core, O =  convTuckerDecomp(W, ranks)\n",
    "    W_recon =  tl.tenalg.multi_mode_dot(core, [I[0,0,:,:], O[0,0,:,:].T], modes=[2,3], transpose=False)\n",
    "    errR2[i] = np.linalg.norm(W - W_recon)**2   # calc reconstruction error ||W-W'||^2\n",
    "    "
   ]
  },
  {
   "cell_type": "markdown",
   "metadata": {},
   "source": [
    "## Plot"
   ]
  },
  {
   "cell_type": "code",
   "execution_count": 12,
   "metadata": {},
   "outputs": [
    {
     "data": {
      "image/png": "[encoded data removed]",
      "text/plain": [
       "<matplotlib.figure.Figure at 0x7f929c2b10f0>"
      ]
     },
     "metadata": {},
     "output_type": "display_data"
    }
   ],
   "source": [
    "plt.figure(figsize=(15,5))\n",
    "plt.subplot(1,2,1)\n",
    "plt.plot(R1_range, errR1)\n",
    "plt.title('Reconstruction error vs R1')\n",
    "plt.ylabel('Error')\n",
    "plt.xlabel('R1')\n",
    "\n",
    "plt.subplot(1,2,2)\n",
    "plt.plot(R2_range, errR2)\n",
    "plt.title('Reconstruction error vs R2')\n",
    "plt.ylabel('Error')\n",
    "plt.xlabel('R2')\n",
    "\n",
    "plt.show()"
   ]
  },
  {
   "cell_type": "code",
   "execution_count": 13,
   "metadata": {},
   "outputs": [],
   "source": [
    "np.save('step2',[errR1,errR2])"
   ]
  },
  {
   "cell_type": "code",
   "execution_count": 180,
   "metadata": {},
   "outputs": [],
   "source": [
    "[errR1,errR2] = np.load('step2.npy')"
   ]
  },
  {
   "cell_type": "markdown",
   "metadata": {},
   "source": [
    "# Step 3 and 4"
   ]
  },
  {
   "cell_type": "code",
   "execution_count": 15,
   "metadata": {},
   "outputs": [],
   "source": [
    "# https://jacobgil.github.io/deeplearning/tensor-decompositions-deep-learning\n",
    "def decomposeModel(model, x):\n",
    "    \"\"\" Decompose conv layers in model using Tucker Decomposition \"\"\"\n",
    "    \n",
    "    batch_norm_alpha = 0.9\n",
    "    batch_norm_eps = 1e-4\n",
    "\n",
    "    model2 = Sequential()\n",
    "\n",
    "    for idx,l in enumerate(model.layers):\n",
    "        config = l.get_config()                        # get layer info\n",
    "                \n",
    "        if type(l) == Conv2D:\n",
    "            if idx == 0:                                 # specify input_shape only for first layer\n",
    "                model2.add(Conv2D(filters=config['filters'], kernel_size=3, strides=(1, 1), padding='valid', input_shape=[32,32,3]))\n",
    "            else: \n",
    "                W,b = l.get_weights()  \n",
    "                ranks = [int(x*W.shape[2]), int(x*W.shape[3])]\n",
    "                I, core, O =  convTuckerDecomp(W, ranks)\n",
    "\n",
    "                # add pointwise conv layer for I\n",
    "                model2.add(Conv2D(filters=ranks[0], kernel_size=1, strides=1, padding='same'))\n",
    "                model2.layers[-1].set_weights([I, np.zeros(ranks[0])])\n",
    "                \n",
    "                # add regular conv layer for core\n",
    "                model2.add(Conv2D(filters=ranks[1], kernel_size=config['kernel_size'], strides=config['strides'], \n",
    "                                  padding='valid', activation=config['activation']))\n",
    "                model2.layers[-1].set_weights([core, np.zeros(ranks[1])])\n",
    "                \n",
    "                # add pointwise conv laeyr for O. pointwise conv\n",
    "                model2.add(Conv2D(filters=config['filters'], kernel_size=1, strides=1, padding='same'))\n",
    "                model2.layers[-1].set_weights([O, b])\n",
    "                \n",
    "                continue\n",
    "                \n",
    "        elif type(l) == Dense:\n",
    "            model2.add(Dense(config['units']))\n",
    "        elif type(l) == BatchNormalization:\n",
    "            model2.add(BatchNormalization(axis=-1, momentum=batch_norm_alpha, epsilon=batch_norm_eps))\n",
    "        elif type(l) == Activation:\n",
    "            model2.add(Activation(config['activation']))\n",
    "        elif type(l) == Flatten:\n",
    "            model2.add(Flatten())\n",
    "        elif type(l) == MaxPooling2D:\n",
    "            model2.add(MaxPooling2D(pool_size=(2,2),strides=(2,2)))\n",
    "\n",
    "        model2.layers[-1].set_weights(l.get_weights())  # keep same weights as model\n",
    "\n",
    "    return model2"
   ]
  },
  {
   "cell_type": "code",
   "execution_count": 16,
   "metadata": {
    "scrolled": true
   },
   "outputs": [
    {
     "name": "stdout",
     "output_type": "stream",
     "text": [
      "x = 0.125\n",
      "Epoch 1/10\n",
      "500/500 [==============================] - 23s 47ms/step - loss: 1.3318 - acc: 0.6079\n",
      "Epoch 2/10\n",
      "500/500 [==============================] - 23s 47ms/step - loss: 0.8737 - acc: 0.6976\n",
      "Epoch 3/10\n",
      "500/500 [==============================] - 23s 45ms/step - loss: 0.8069 - acc: 0.7175\n",
      "Epoch 4/10\n",
      "500/500 [==============================] - 22s 44ms/step - loss: 0.7674 - acc: 0.7335\n",
      "Epoch 5/10\n",
      "500/500 [==============================] - 22s 44ms/step - loss: 0.7346 - acc: 0.7461\n",
      "Epoch 6/10\n",
      "500/500 [==============================] - 23s 45ms/step - loss: 0.7186 - acc: 0.7526\n",
      "Epoch 7/10\n",
      "500/500 [==============================] - 23s 46ms/step - loss: 0.7063 - acc: 0.7537\n",
      "Epoch 8/10\n",
      "500/500 [==============================] - 23s 46ms/step - loss: 0.6785 - acc: 0.7649\n",
      "Epoch 9/10\n",
      "500/500 [==============================] - 23s 45ms/step - loss: 0.6581 - acc: 0.7725\n",
      "Epoch 10/10\n",
      "500/500 [==============================] - 22s 43ms/step - loss: 0.6540 - acc: 0.7722\n",
      "x = 0.25\n",
      "Epoch 1/10\n",
      "500/500 [==============================] - 24s 48ms/step - loss: 1.1243 - acc: 0.6243\n",
      "Epoch 2/10\n",
      "500/500 [==============================] - 21s 42ms/step - loss: 0.7294 - acc: 0.7469\n",
      "Epoch 3/10\n",
      "500/500 [==============================] - 22s 43ms/step - loss: 0.6290 - acc: 0.7831\n",
      "Epoch 4/10\n",
      "500/500 [==============================] - 21s 43ms/step - loss: 0.5741 - acc: 0.8003\n",
      "Epoch 5/10\n",
      "500/500 [==============================] - 23s 46ms/step - loss: 0.5405 - acc: 0.8109\n",
      "Epoch 6/10\n",
      "500/500 [==============================] - 24s 48ms/step - loss: 0.5105 - acc: 0.8235\n",
      "Epoch 7/10\n",
      "500/500 [==============================] - 23s 46ms/step - loss: 0.4965 - acc: 0.8278\n",
      "Epoch 8/10\n",
      "500/500 [==============================] - 23s 46ms/step - loss: 0.4792 - acc: 0.8351\n",
      "Epoch 9/10\n",
      "500/500 [==============================] - 22s 45ms/step - loss: 0.4636 - acc: 0.8391\n",
      "Epoch 10/10\n",
      "500/500 [==============================] - 23s 46ms/step - loss: 0.4465 - acc: 0.8443\n",
      "x = 0.375\n",
      "Epoch 1/10\n",
      "500/500 [==============================] - 24s 48ms/step - loss: 0.8863 - acc: 0.7076\n",
      "Epoch 2/10\n",
      "500/500 [==============================] - 21s 43ms/step - loss: 0.5708 - acc: 0.8037\n",
      "Epoch 3/10\n",
      "500/500 [==============================] - 21s 43ms/step - loss: 0.4978 - acc: 0.8296\n",
      "Epoch 4/10\n",
      "500/500 [==============================] - 21s 41ms/step - loss: 0.4470 - acc: 0.8444\n",
      "Epoch 5/10\n",
      "500/500 [==============================] - 20s 41ms/step - loss: 0.4176 - acc: 0.8553\n",
      "Epoch 6/10\n",
      "500/500 [==============================] - 22s 45ms/step - loss: 0.4030 - acc: 0.8625\n",
      "Epoch 7/10\n",
      "500/500 [==============================] - 22s 44ms/step - loss: 0.3932 - acc: 0.8645\n",
      "Epoch 8/10\n",
      "500/500 [==============================] - 23s 46ms/step - loss: 0.3746 - acc: 0.8708\n",
      "Epoch 9/10\n",
      "500/500 [==============================] - 22s 45ms/step - loss: 0.3665 - acc: 0.8722\n",
      "Epoch 10/10\n",
      "500/500 [==============================] - 21s 42ms/step - loss: 0.3528 - acc: 0.8774\n",
      "x = 0.5\n",
      "Epoch 1/10\n",
      "500/500 [==============================] - 25s 49ms/step - loss: 0.9213 - acc: 0.6977\n",
      "Epoch 2/10\n",
      "500/500 [==============================] - 19s 39ms/step - loss: 0.5560 - acc: 0.8086\n",
      "Epoch 3/10\n",
      "500/500 [==============================] - 18s 37ms/step - loss: 0.4765 - acc: 0.8379\n",
      "Epoch 4/10\n",
      "500/500 [==============================] - 19s 38ms/step - loss: 0.4311 - acc: 0.8511\n",
      "Epoch 5/10\n",
      "500/500 [==============================] - 20s 39ms/step - loss: 0.4000 - acc: 0.8622\n",
      "Epoch 6/10\n",
      "500/500 [==============================] - 19s 38ms/step - loss: 0.3820 - acc: 0.8681\n",
      "Epoch 7/10\n",
      "500/500 [==============================] - 22s 44ms/step - loss: 0.3609 - acc: 0.8754\n",
      "Epoch 8/10\n",
      "500/500 [==============================] - 22s 45ms/step - loss: 0.3534 - acc: 0.8776\n",
      "Epoch 9/10\n",
      "500/500 [==============================] - 23s 46ms/step - loss: 0.3375 - acc: 0.8827\n",
      "Epoch 10/10\n",
      "500/500 [==============================] - 23s 45ms/step - loss: 0.3269 - acc: 0.8857\n",
      "x = 0.625\n",
      "Epoch 1/10\n",
      "500/500 [==============================] - 22s 44ms/step - loss: 0.9295 - acc: 0.6885\n",
      "Epoch 2/10\n",
      "500/500 [==============================] - 20s 41ms/step - loss: 0.5523 - acc: 0.8106\n",
      "Epoch 3/10\n",
      "500/500 [==============================] - 23s 47ms/step - loss: 0.4632 - acc: 0.8394\n",
      "Epoch 4/10\n",
      "500/500 [==============================] - 23s 47ms/step - loss: 0.4220 - acc: 0.8571\n",
      "Epoch 5/10\n",
      "500/500 [==============================] - 22s 45ms/step - loss: 0.3848 - acc: 0.8677\n",
      "Epoch 6/10\n",
      "500/500 [==============================] - 23s 45ms/step - loss: 0.3623 - acc: 0.8755\n",
      "Epoch 7/10\n",
      "500/500 [==============================] - 23s 47ms/step - loss: 0.3491 - acc: 0.8787\n",
      "Epoch 8/10\n",
      "500/500 [==============================] - 23s 47ms/step - loss: 0.3320 - acc: 0.8852\n",
      "Epoch 9/10\n",
      "500/500 [==============================] - 22s 44ms/step - loss: 0.3261 - acc: 0.8882\n",
      "Epoch 10/10\n",
      "500/500 [==============================] - 19s 38ms/step - loss: 0.3169 - acc: 0.8904\n",
      "x = 0.75\n",
      "Epoch 1/10\n",
      "500/500 [==============================] - 23s 47ms/step - loss: 0.9032 - acc: 0.7009\n",
      "Epoch 2/10\n",
      "500/500 [==============================] - 21s 41ms/step - loss: 0.5351 - acc: 0.8166\n",
      "Epoch 3/10\n",
      "500/500 [==============================] - 20s 40ms/step - loss: 0.4423 - acc: 0.8482\n",
      "Epoch 4/10\n",
      "500/500 [==============================] - 19s 38ms/step - loss: 0.4042 - acc: 0.8610 1s - lo\n",
      "Epoch 5/10\n",
      "500/500 [==============================] - 19s 38ms/step - loss: 0.3750 - acc: 0.8720\n",
      "Epoch 6/10\n",
      "500/500 [==============================] - 19s 38ms/step - loss: 0.3499 - acc: 0.8785\n",
      "Epoch 7/10\n",
      "500/500 [==============================] - 19s 38ms/step - loss: 0.3366 - acc: 0.8835\n",
      "Epoch 8/10\n",
      "500/500 [==============================] - 19s 38ms/step - loss: 0.3190 - acc: 0.8882\n",
      "Epoch 9/10\n",
      "500/500 [==============================] - 20s 39ms/step - loss: 0.3095 - acc: 0.8920\n",
      "Epoch 10/10\n",
      "500/500 [==============================] - 19s 38ms/step - loss: 0.3010 - acc: 0.8962\n",
      "x = 0.875\n",
      "Epoch 1/10\n",
      "500/500 [==============================] - 22s 45ms/step - loss: 1.0745 - acc: 0.6479\n",
      "Epoch 2/10\n",
      "500/500 [==============================] - 18s 37ms/step - loss: 0.6146 - acc: 0.7892\n",
      "Epoch 3/10\n",
      "500/500 [==============================] - 20s 40ms/step - loss: 0.5090 - acc: 0.8255\n",
      "Epoch 4/10\n",
      "500/500 [==============================] - 19s 38ms/step - loss: 0.4427 - acc: 0.8498\n",
      "Epoch 5/10\n",
      "500/500 [==============================] - 18s 37ms/step - loss: 0.4080 - acc: 0.8605\n",
      "Epoch 6/10\n",
      "500/500 [==============================] - 20s 40ms/step - loss: 0.3843 - acc: 0.8688\n",
      "Epoch 7/10\n",
      "500/500 [==============================] - 20s 39ms/step - loss: 0.3602 - acc: 0.8768\n",
      "Epoch 8/10\n",
      "500/500 [==============================] - 19s 38ms/step - loss: 0.3489 - acc: 0.8791\n",
      "Epoch 9/10\n",
      "500/500 [==============================] - 19s 38ms/step - loss: 0.3296 - acc: 0.8868\n",
      "Epoch 10/10\n",
      "500/500 [==============================] - 18s 37ms/step - loss: 0.3209 - acc: 0.8890\n",
      "x = 1.0\n",
      "Epoch 1/10\n",
      "500/500 [==============================] - 23s 46ms/step - loss: 0.9135 - acc: 0.6998\n",
      "Epoch 2/10\n",
      "500/500 [==============================] - 20s 40ms/step - loss: 0.5400 - acc: 0.8140\n",
      "Epoch 3/10\n",
      "500/500 [==============================] - 20s 40ms/step - loss: 0.4545 - acc: 0.8424\n",
      "Epoch 4/10\n",
      "500/500 [==============================] - 19s 38ms/step - loss: 0.4038 - acc: 0.8615\n",
      "Epoch 5/10\n",
      "500/500 [==============================] - 19s 39ms/step - loss: 0.3693 - acc: 0.8719\n",
      "Epoch 6/10\n",
      "500/500 [==============================] - 19s 37ms/step - loss: 0.3508 - acc: 0.8779\n",
      "Epoch 7/10\n",
      "500/500 [==============================] - 19s 37ms/step - loss: 0.3344 - acc: 0.8838\n",
      "Epoch 8/10\n",
      "500/500 [==============================] - 19s 38ms/step - loss: 0.3192 - acc: 0.8903\n",
      "Epoch 9/10\n",
      "500/500 [==============================] - 19s 38ms/step - loss: 0.3050 - acc: 0.8942\n",
      "Epoch 10/10\n",
      "500/500 [==============================] - 19s 38ms/step - loss: 0.2896 - acc: 0.8994\n"
     ]
    }
   ],
   "source": [
    "xRange = np.arange(1,9)/8.0\n",
    "accNoTrain = np.zeros(len(xRange))\n",
    "accTrain = np.zeros(len(xRange))\n",
    "for i,x in enumerate(xRange):\n",
    "    print('x = {}'.format(x))\n",
    "    model_decomp = decomposeModel(model, x)\n",
    "    model_decomp.compile(loss='sparse_categorical_crossentropy',optimizer=opt,metrics=['accuracy'])\n",
    "    accNoTrain[i] = model_decomp.evaluate(X_test,y_test,verbose=0)[1]  # evaluate on test set w/o training\n",
    "    model_decomp.fit_generator(datagen.flow(X_train, y_train, batch_size=batch_size), \n",
    "                               steps_per_epoch = X_train.shape[0]/batch_size, \n",
    "                               epochs = 10)\n",
    "    accTrain[i] = model_decomp.evaluate(X_test,y_test,verbose=0)[1]   # eval on test set after training, saving accuracy\n"
   ]
  },
  {
   "cell_type": "code",
   "execution_count": 21,
   "metadata": {},
   "outputs": [],
   "source": [
    "np.save('step3-4',[accNoTrain, accTrain])"
   ]
  },
  {
   "cell_type": "code",
   "execution_count": 19,
   "metadata": {
    "scrolled": false
   },
   "outputs": [
    {
     "data": {
      "image/png": "[encoded data removed]",
      "text/plain": [
       "<matplotlib.figure.Figure at 0x7f916a1afdd8>"
      ]
     },
     "metadata": {},
     "output_type": "display_data"
    },
    {
     "name": "stdout",
     "output_type": "stream",
     "text": [
      "[0.1134 0.5086 0.7772 0.8459 0.8802 0.8927 0.895  0.8994] [0.7908 0.8434 0.8658 0.8682 0.8599 0.8668 0.8706 0.8676]\n"
     ]
    }
   ],
   "source": [
    "plt.figure(figsize=(15,5))\n",
    "plt.subplot(1,2,1)\n",
    "plt.plot(xRange, accNoTrain)\n",
    "plt.title('Test accuracy vs x (Untrained)')\n",
    "plt.ylabel('Accuracy')\n",
    "plt.xlabel('x')\n",
    "\n",
    "plt.subplot(1,2,2)\n",
    "plt.plot(xRange, accTrain)\n",
    "plt.title('Test accuracy vs x (Trained)')\n",
    "plt.ylabel('Accuracy')\n",
    "plt.xlabel('x')\n",
    "\n",
    "plt.show()\n",
    "\n",
    "print(accNoTrain, accTrain)"
   ]
  },
  {
   "cell_type": "code",
   "execution_count": 31,
   "metadata": {},
   "outputs": [
    {
     "data": {
      "image/png": "[encoded data removed]",
      "text/plain": [
       "<matplotlib.figure.Figure at 0x7f9169b1c2e8>"
      ]
     },
     "metadata": {},
     "output_type": "display_data"
    },
    {
     "data": {
      "text/plain": [
       "array([0.125, 0.25 , 0.375, 0.5  , 0.625, 0.75 , 0.875, 1.   ])"
      ]
     },
     "execution_count": 31,
     "metadata": {},
     "output_type": "execute_result"
    }
   ],
   "source": [
    "plt.figure(figsize=(8,5))\n",
    "# plt.subplot(1,2,1)\n",
    "plt.plot(xRange, accNoTrain)\n",
    "plt.title('Test accuracy vs x')\n",
    "plt.ylabel('Accuracy')\n",
    "plt.xlabel('x')\n",
    "\n",
    "# plt.subplot(1,2,2)\n",
    "plt.plot(xRange, accTrain)\n",
    "# plt.title('Test accuracy vs x (Trained)')\n",
    "plt.ylabel('Accuracy')\n",
    "plt.xlabel('x')\n",
    "plt.legend(['Untrained','Trained'])\n",
    "\n",
    "plt.show()\n",
    "xRange\n",
    "# print(accNoTrain, accTrain)"
   ]
  },
  {
   "cell_type": "markdown",
   "metadata": {},
   "source": [
    "# Step 5"
   ]
  },
  {
   "cell_type": "code",
   "execution_count": 22,
   "metadata": {},
   "outputs": [],
   "source": [
    "def getRanks(layer):\n",
    "    \"\"\" Use VBMF to get R1 and R2 ranks \"\"\"\n",
    "    W,b = layer.get_weights()\n",
    "    unfold_0 = tl.base.unfold(W, 2) \n",
    "    unfold_1 = tl.base.unfold(W, 3)\n",
    "    _, S_0, _, _ = VBMF.EVBMF(unfold_0)   # use to estimate cacb\n",
    "    _, S_1, _, _ = VBMF.EVBMF(unfold_1)\n",
    "#     _, S_0, _, _ = VBMF.VBMF(unfold_0, cacb=1)\n",
    "#     _, S_1, _, _ = VBMF.VBMF(unfold_1, cacb=1)\n",
    "    ranks = [S_0.shape[0], S_1.shape[0]]\n",
    "    print(\"Ranks: \",ranks)\n",
    "    return ranks\n",
    "\n",
    "def decomposeModelVBMF(model):\n",
    "    \"\"\" Decompose conv layers in model using Tucker Decomposition \"\"\"\n",
    "    \n",
    "    batch_norm_alpha = 0.9\n",
    "    batch_norm_eps = 1e-4\n",
    "\n",
    "    model2 = Sequential()\n",
    "\n",
    "    for idx,l in enumerate(model.layers):\n",
    "        config = l.get_config()                        # get layer info\n",
    "                \n",
    "        if type(l) == Conv2D:\n",
    "            if idx == 0:                                 # specify input_shape only for first layer\n",
    "                model2.add(Conv2D(filters=config['filters'], kernel_size=3, strides=(1, 1), padding='valid', input_shape=[32,32,3]))\n",
    "            else: \n",
    "                W,b = l.get_weights()\n",
    "                ranks = getRanks(l)\n",
    "                I, core, O =  convTuckerDecomp(W, ranks)\n",
    "\n",
    "                # add pointwise conv layer for I\n",
    "                model2.add(Conv2D(filters=ranks[0], kernel_size=1, strides=1, padding='same'))\n",
    "                model2.layers[-1].set_weights([I, np.zeros(ranks[0])])\n",
    "                \n",
    "                # add regular conv layer for core\n",
    "                model2.add(Conv2D(filters=ranks[1], kernel_size=config['kernel_size'], strides=config['strides'], \n",
    "                                  padding='valid', activation=config['activation']))\n",
    "                model2.layers[-1].set_weights([core, np.zeros(ranks[1])])\n",
    "                \n",
    "                # add pointwise conv laeyr for O. pointwise conv\n",
    "                model2.add(Conv2D(filters=config['filters'], kernel_size=1, strides=1, padding='same'))\n",
    "                model2.layers[-1].set_weights([O, b])\n",
    "                \n",
    "                continue\n",
    "                \n",
    "        elif type(l) == Dense:\n",
    "            model2.add(Dense(config['units']))\n",
    "        elif type(l) == BatchNormalization:\n",
    "            model2.add(BatchNormalization(axis=-1, momentum=batch_norm_alpha, epsilon=batch_norm_eps))\n",
    "        elif type(l) == Activation:\n",
    "            model2.add(Activation(config['activation']))\n",
    "        elif type(l) == Flatten:\n",
    "            model2.add(Flatten())\n",
    "        elif type(l) == MaxPooling2D:\n",
    "            model2.add(MaxPooling2D(pool_size=(2,2),strides=(2,2)))\n",
    "\n",
    "        model2.layers[-1].set_weights(l.get_weights())  # keep same weights as model\n",
    "\n",
    "    return model2"
   ]
  },
  {
   "cell_type": "code",
   "execution_count": 23,
   "metadata": {
    "scrolled": true
   },
   "outputs": [
    {
     "name": "stdout",
     "output_type": "stream",
     "text": [
      "Ranks:  [31, 23]\n",
      "Ranks:  [27, 30]\n",
      "Ranks:  [20, 14]\n",
      "Ranks:  [35, 38]\n",
      "Ranks:  [56, 66]\n",
      "Epoch 1/10\n",
      "500/500 [==============================] - 24s 48ms/step - loss: 1.0076 - acc: 0.6655 - val_loss: 0.7332 - val_acc: 0.7467\n",
      "Epoch 2/10\n",
      "500/500 [==============================] - 19s 38ms/step - loss: 0.7049 - acc: 0.7566 - val_loss: 0.6224 - val_acc: 0.7799\n",
      "Epoch 3/10\n",
      "500/500 [==============================] - 20s 39ms/step - loss: 0.6339 - acc: 0.7812 - val_loss: 0.6215 - val_acc: 0.7910\n",
      "Epoch 4/10\n",
      "500/500 [==============================] - 20s 39ms/step - loss: 0.5852 - acc: 0.7966 - val_loss: 0.5962 - val_acc: 0.7940\n",
      "Epoch 5/10\n",
      "500/500 [==============================] - 20s 40ms/step - loss: 0.5609 - acc: 0.8068 - val_loss: 0.6233 - val_acc: 0.7896\n",
      "Epoch 6/10\n",
      "500/500 [==============================] - 19s 38ms/step - loss: 0.5456 - acc: 0.8128 - val_loss: 0.5463 - val_acc: 0.8128\n",
      "Epoch 7/10\n",
      "500/500 [==============================] - 19s 38ms/step - loss: 0.5223 - acc: 0.8195 - val_loss: 0.5429 - val_acc: 0.8124\n",
      "Epoch 8/10\n",
      "500/500 [==============================] - 19s 37ms/step - loss: 0.5085 - acc: 0.8233 - val_loss: 0.5008 - val_acc: 0.8272\n",
      "Epoch 9/10\n",
      "500/500 [==============================] - 19s 37ms/step - loss: 0.4960 - acc: 0.8275 - val_loss: 0.5160 - val_acc: 0.8236\n",
      "Epoch 10/10\n",
      "500/500 [==============================] - 20s 40ms/step - loss: 0.4857 - acc: 0.8310 - val_loss: 0.5010 - val_acc: 0.8298\n"
     ]
    }
   ],
   "source": [
    "model_decomp_VBMF = decomposeModelVBMF(model)\n",
    "model_decomp_VBMF.compile(loss='sparse_categorical_crossentropy',optimizer=opt,metrics=['accuracy'])\n",
    "hist = model_decomp_VBMF.fit_generator(datagen.flow(X_train, y_train, batch_size=batch_size), \n",
    "                                       steps_per_epoch = X_train.shape[0]/batch_size, \n",
    "                                       validation_data = (X_test, y_test),\n",
    "                                       validation_steps = X_test.shape[0]/batch_size,\n",
    "                                       epochs = 10)"
   ]
  },
  {
   "cell_type": "code",
   "execution_count": 29,
   "metadata": {},
   "outputs": [
    {
     "data": {
      "image/png": "[encoded data removed]",
      "text/plain": [
       "<matplotlib.figure.Figure at 0x7f91679167b8>"
      ]
     },
     "metadata": {},
     "output_type": "display_data"
    }
   ],
   "source": [
    "plt.plot(hist.history['val_acc'])\n",
    "plt.title('Test Accuracy vs Epochs (VBMF)')\n",
    "plt.ylabel('Accuracy')\n",
    "plt.xlabel('Epoch')\n",
    "plt.show()\n"
   ]
  },
  {
   "cell_type": "code",
   "execution_count": 26,
   "metadata": {},
   "outputs": [],
   "source": [
    "import pickle\n",
    "with open('step5_v3.pkl', 'wb') as file_pi:\n",
    "    pickle.dump(hist.history, file_pi)\n",
    "# with open('step5_v2.pkl', 'rb') as f:\n",
    "#     data = pickle.load(f)\n",
    "# data"
   ]
  }
 ],
 "metadata": {
  "kernelspec": {
   "display_name": "Python 3",
   "language": "python",
   "name": "python3"
  },
  "language_info": {
   "codemirror_mode": {
    "name": "ipython",
    "version": 3
   },
   "file_extension": ".py",
   "mimetype": "text/x-python",
   "name": "python",
   "nbconvert_exporter": "python",
   "pygments_lexer": "ipython3",
   "version": "3.5.4"
  }
 },
 "nbformat": 4,
 "nbformat_minor": 2
}
